{
 "cells": [
  {
   "cell_type": "code",
   "execution_count": 20,
   "metadata": {},
   "outputs": [
    {
     "name": "stdout",
     "output_type": "stream",
     "text": [
      "http://www.zgcjpx.com/cpa/tiku/lianxi/sj/120447_2.html\n"
     ]
    }
   ],
   "source": [
    "from urllib.request import urlopen\n",
    "from bs4 import BeautifulSoup as soup\n",
    "import re\n",
    "import pprint\n",
    "\n",
    "# url = 'http://www.zgcjpx.com/cpa/tiku/lianxi/gszl/120156.html'\n",
    "# url = 'http://www.zgcjpx.com/cpa/tiku/lianxi/jjf/130097.html'\n",
    "url = 'http://www.zgcjpx.com/cpa/tiku/lianxi/sj/120447.html'\n",
    "with urlopen(url) as response:\n",
    "    html = response.read()\n",
    "page = soup(html, 'html.parser')\n",
    "\n",
    "answer_button = page.find_all('a', attrs={'class': 'anniu'})\n",
    "try:\n",
    "    if len(answer_button) != 1 and answer_button[0].get_text() != '查看答案':\n",
    "        raise ValueError\n",
    "    else:\n",
    "        answer_page = (page.find_all('a', attrs={'class': 'anniu'})[0]['href'])\n",
    "        \n",
    "except ValueError:\n",
    "    print('Not the correct button: ', answer_button)"
   ]
  },
  {
   "cell_type": "code",
   "execution_count": 23,
   "metadata": {},
   "outputs": [
    {
     "data": {
      "text/plain": [
       "'http://www.zgcjpx.com/cpa/tiku/lianxi/sj/120447_2.html'"
      ]
     },
     "execution_count": 23,
     "metadata": {},
     "output_type": "execute_result"
    }
   ],
   "source": [
    "# ---------------- mixed question types -----------------\n",
    "\n",
    "def unique_list(a_list):\n",
    "    for item in a_list:\n",
    "        while a_list.count(item) > 1:\n",
    "            a_list.remove(item)\n",
    "    return a_list\n",
    "\n",
    "\n",
    "# --------------- get the answer page link --------------\n",
    "def answer_page():\n",
    "    '''\n",
    "    output the answer page link \n",
    "    '''\n",
    "    answer_button = page.find_all('a', attrs={'class': 'anniu'})\n",
    "    try:\n",
    "        if len(answer_button) != 1 and answer_button[0].get_text() != '查看答案':\n",
    "            raise ValueError\n",
    "        else:\n",
    "            return page.find_all('a', attrs={'class': 'anniu'})[0]['href']\n",
    "    except ValueError:\n",
    "        print('Not the correct button: ', answer_button)\n",
    "              \n",
    "answer_page()"
   ]
  },
  {
   "cell_type": "code",
   "execution_count": null,
   "metadata": {},
   "outputs": [],
   "source": [
    "# filter out unwanted annoying <p>, and the rest would be the darling we love\n",
    "def drills_para(tag):\n",
    "    return tag.name == 'p' and len(tag.contents) <= 1 and isinstance(tag.contents[0], str)\n",
    "\n",
    "drills = page.find_all(drills_para)\n",
    "\n",
    "# delete yet another two\n",
    "del drills[0]   # always be <p>CPA</p>\n",
    "del drills[-1]  # always be <p>400-605-3513</p>\n",
    "\n",
    "for i in range(len(drills)):\n",
    "    drills[i] = drills[i] = drills[i].get_text().replace('\\u3000', ' ')\n"
   ]
  }
 ],
 "metadata": {
  "kernelspec": {
   "display_name": "Python 3",
   "language": "python",
   "name": "python3"
  },
  "language_info": {
   "codemirror_mode": {
    "name": "ipython",
    "version": 3
   },
   "file_extension": ".py",
   "mimetype": "text/x-python",
   "name": "python",
   "nbconvert_exporter": "python",
   "pygments_lexer": "ipython3",
   "version": "3.6.5"
  }
 },
 "nbformat": 4,
 "nbformat_minor": 2
}
