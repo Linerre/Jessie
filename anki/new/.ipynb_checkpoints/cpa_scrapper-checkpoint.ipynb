{
 "cells": [
  {
   "cell_type": "code",
   "execution_count": null,
   "metadata": {},
   "outputs": [],
   "source": [
    "# request the page\n",
    "\n",
    "# parse the page\n",
    "\n",
    "# analyze question type(s) and chapter info\n",
    "    \n",
    "    # if h2 --> record the single question type\n",
    "        # analyze question\n",
    "            # if length == 25\n",
    "                # question = Q + chapter info\n",
    "            # else:\n",
    "                # raise exception?\n",
    "    # elif no h2:\n",
    "        # analyze question\n",
    "            # if length == 25\n",
    "                # question = question type + Q + chapter info\n",
    "            # else:\n",
    "                # raise exception?\n",
    "\n",
    "# analyze answers type"
   ]
  },
  {
   "cell_type": "code",
   "execution_count": 1,
   "metadata": {
    "scrolled": true
   },
   "outputs": [
    {
     "name": "stdout",
     "output_type": "stream",
     "text": [
      "会计-----6-5\n"
     ]
    }
   ],
   "source": [
    "import sys\n",
    "sys.path.append('./bad_to_good/')\n",
    "import data_cleaner\n",
    "import html_tools\n",
    "import para_scanner\n",
    "import pprint\n",
    "\n",
    "# -------------------------- urls -------------------------- #\n",
    "# normal pages (q_list length = 25 and a_list length = 5 or = 10)\n",
    "# url = 'http://www.zgcjpx.com/cpa/tiku/lianxi/jjf/130097.html'\n",
    "\n",
    "# url = 'http://www.zgcjpx.com/cpa/tiku/lianxi/jjf/119377.html'\n",
    "\n",
    "# h2 page\n",
    "# url = 'http://www.zgcjpx.com/cpa/tiku/lianxi/jjf/119625.html'\n",
    "\n",
    "# url = 'http://www.zgcjpx.com/cpa/tiku/lianxi/jjf/118642.html'\n",
    "\n",
    "# abnormal page 1: q_list length < 25\n",
    "# url = 'http://www.zgcjpx.com/cpa/tiku/lianxi/jjf/129721.html'\n",
    "\n",
    "# abnormal page 2: q_list length > 25\n",
    "url = 'http://www.zgcjpx.com/cpa/tiku/lianxi/kj/129401.html'\n",
    "\n",
    "# q_list = 25 but a_list = 9\n",
    "# url = 'http://www.zgcjpx.com/cpa/tiku/lianxi/jjf/118903.html'\n",
    "\n",
    "# -------------------------- urls -------------------------- #\n",
    "\n",
    "\n",
    "# -------------------------- body -------------------------- #\n",
    "  \n",
    "# get the question page and anwser lists\n",
    "q_html = html_tools.get_html(url)\n",
    "a_html = html_tools.get_answer_html(url)\n",
    "\n",
    "filename = html_tools.filename_getter(q_html)\n",
    "\n",
    "q_list = html_tools.target_tags(html_tools.filter_tags, q_html) # question list\n",
    "a_list = html_tools.target_tags(html_tools.filter_tags, a_html) # answer list\n",
    "\n",
    "\n",
    "if len(q_list) == 25 and len(a_list) == 5:\n",
    "    with open(filename, 'a', encoding='utf-8') as file:\n",
    "        para_scanner.normal(q_list, a_list, q_html.h2, file)\n",
    "\n",
    "elif len(q_list) == 25 and len(a_list) == 10:\n",
    "    # TODO:\n",
    "    # filename issue\n",
    "    para_scanner.normal_question(q_list, q_html.h2)\n",
    "    para_scanner.answer_10(q_list, a_list)\n",
    "    \n",
    "    with open(filename, 'a', encoding='utf-8') as file:\n",
    "        for i in (0,6,12,18,20):\n",
    "            file.write(q_list[i] + ',' + \\\n",
    "                      q_list[i+1] + ',' + \\\n",
    "                      q_list[i+2] + ',' + \\\n",
    "                      q_list[i+3] + ',' + \\\n",
    "                      q_list[i+4] + ',' + \\\n",
    "                      q_list[i+5] + '\\n')\n",
    "    \n",
    "# elif len(q_list) != 25:\n",
    "    \n",
    "#     data_cleaner.abnormal_handler(data_cleaner.abnormal_finder(q_list), q_list)\n",
    "\n",
    "# else:\n",
    "#     print('Q line number: ', len(q_list))\n",
    "#     print('A line number: ', len(a_list))\n",
    "\n",
    "# para_scanner.terminator(q_list, que_opt)\n",
    "# para_scanner.standard_25(para_scanner.terminator(q_list, que_opt))\n",
    "\n",
    "# -------------------------- body -------------------------- #\n",
    "\n",
    "# pp = pprint.PrettyPrinter(indent=2)\n",
    "# pp.pprint()\n"
   ]
  },
  {
   "cell_type": "code",
   "execution_count": 1,
   "metadata": {},
   "outputs": [
    {
     "name": "stdout",
     "output_type": "stream",
     "text": [
      "None\n",
      "None: no h2 tag\n"
     ]
    }
   ],
   "source": [
    "# test simple ideas when scrapping\n",
    "\n",
    "# import built-in module and any necessary ones\n",
    "from urllib.request import urlopen\n",
    "from bs4 import BeautifulSoup as soup\n",
    "import re\n",
    "import pprint\n",
    "\n",
    "# open and retrieve the whole page\n",
    "# url = 'http://www.zgcjpx.com/cpa/tiku/lianxi/kj/129121.html'\n",
    "# url = 'http://www.zgcjpx.com/cpa/tiku/lianxi/kj/129401.html'\n",
    "# url = 'http://www.zgcjpx.com/cpa/tiku/lianxi/gszl/129733.html'\n",
    "url = 'http://www.zgcjpx.com/cpa/tiku/lianxi/jjf/129721.html'\n",
    "with urlopen(url) as response:\n",
    "    html = response.read()\n",
    "page = soup(html, 'html.parser')\n",
    "\n",
    "print(page.h2)\n",
    "\n",
    "print(str(page.h2)+': no h2 tag')\n",
    "\n",
    "# To parse only the part needed, that is, all p tags, is NOT a good idea \n",
    "# since JavaScript could modify the behavior of any <p> tags\n",
    "\n",
    "\n",
    "# ------------- cleaning ------------ #\n",
    "# filter out unwanted annoying <p>\n",
    "# and the rest would be the darling we love\n",
    "# def drills_para(tag):\n",
    "#     '''\n",
    "#     filter out filter out unwanted annoying <p>\n",
    "#     '''\n",
    "#     return tag.name == 'p' and len(tag.contents) <= 1 and isinstance(tag.contents[0], str)\n",
    "\n",
    "# drills = page.find_all(drills_para)\n",
    "\n",
    "# # delete yet another two\n",
    "# del drills[0]   # always be <p>CPA</p>\n",
    "# del drills[-1]  # always be <p>400-605-3513</p>\n",
    "\n",
    "\n"
   ]
  },
  {
   "cell_type": "code",
   "execution_count": null,
   "metadata": {},
   "outputs": [],
   "source": [
    "# special cases:\n",
    "\n",
    "# --------------------- frequent --------------------\n",
    "\n",
    "# two options combined into one para\n",
    "url1 = 'http://www.zgcjpx.com/cpa/tiku/lianxi/jjf/129721.html'\n",
    "\n",
    "# one option broke into several paras\n",
    "url2 = 'http://www.zgcjpx.com/cpa/tiku/lianxi/kj/129401.html'\n",
    "\n",
    "# 【单选题】\n",
    "url3 = 'http://www.zgcjpx.com/cpa/tiku/lianxi/jjf/130097.html'\n",
    "\n",
    "# 【多选题】 and 【单选题】and (第八章 资源税法和环境保护税法)\n",
    "url4 = 'http://www.zgcjpx.com/cpa/tiku/lianxi/sf/130094.html'\n",
    "\n",
    "# (多选题) or (单选题) and (第六章.风险与风险管理)\n",
    "url5 = 'http://www.zgcjpx.com/cpa/tiku/lianxi/gszl/129417.html'\n",
    "# http://www.zgcjpx.com/cpa/tiku/lianxi/gszl/129733.html\n",
    "\n",
    "# (单选)\n",
    "url6 = 'http://www.zgcjpx.com/cpa/tiku/lianxi/sj/130091.html'\n",
    "\n",
    "\n",
    "# -------------------- infrequent ------------------\n",
    "\n",
    "# ------------------- mainly April ----------------\n",
    "# 单项选择题\n",
    "url7 = 'http://www.zgcjpx.com/cpa/tiku/lianxi/sj/120447.html'\n",
    "\n",
    "# 单选题\n",
    "url8 = 'http://www.zgcjpx.com/cpa/tiku/lianxi/gszl/120156.html'\n",
    "\n",
    "# 多项选择题\n",
    "url11 = http://www.zgcjpx.com/cpa/tiku/lianxi/kj/118409.html\n",
    "\n",
    "# 无题型显示\n",
    "url9 = 'http://www.zgcjpx.com/cpa/tiku/lianxi/gszl/130658.html'\n",
    "\n",
    "# 非常奇葩\n",
    "url10 = 'http://www.zgcjpx.com/cpa/tiku/lianxi/jjf/125132.html'\n",
    "\n"
   ]
  },
  {
   "cell_type": "code",
   "execution_count": null,
   "metadata": {},
   "outputs": [],
   "source": [
    "# answers\n",
    "\n",
    "\n",
    "# ------------------ most recent and frequent ---------------- #\n",
    "# 1.参考答案:A + \n",
    "# 题目详解:\n",
    "'http://www.zgcjpx.com/cpa/tiku/lianxi/jjf/127474_2.html'\n",
    "\n",
    "\n",
    "# 1.参考答案:B题目详解:\n",
    "'http://www.zgcjpx.com/cpa/tiku/lianxi/cwcb/123644_2.html'\n",
    "\n",
    "# 1.【答案】C。解析：\n",
    "'http://www.zgcjpx.com/cpa/tiku/lianxi/jjf/129721_2.html'\n",
    "\n",
    "# 1. 【答案】A\n",
    "# 【解析】\n",
    "'http://www.zgcjpx.com/cpa/tiku/lianxi/sf/128315_2.html'\n",
    "\n",
    "\n",
    "\n",
    "# a_list length > 10\n",
    "'http://www.zgcjpx.com/cpa/tiku/lianxi/sf/119623_2.html'\n",
    "'http://www.zgcjpx.com/cpa/tiku/lianxi/jjf/128609_2.html' # 11"
   ]
  },
  {
   "cell_type": "code",
   "execution_count": 5,
   "metadata": {},
   "outputs": [
    {
     "data": {
      "text/plain": [
       "True"
      ]
     },
     "execution_count": 5,
     "metadata": {},
     "output_type": "execute_result"
    }
   ],
   "source": [
    "string = 'We We cannot access or change an element \\\n",
    "of a set using indexing or slicing. Set or Set data \\\n",
    "type does not support it'\n",
    "\n",
    "words = string.split()\n",
    "\n",
    "def unique_list(a_list):\n",
    "    for item in a_list:\n",
    "        while a_list.count(item) > 1:\n",
    "            a_list.remove(item)\n",
    "    return a_list\n",
    "\n",
    "unique_list(['(单选题)', '(单选题)'])"
   ]
  },
  {
   "cell_type": "code",
   "execution_count": 10,
   "metadata": {},
   "outputs": [
    {
     "data": {
      "text/plain": [
       "['(单选题)']"
      ]
     },
     "execution_count": 10,
     "metadata": {},
     "output_type": "execute_result"
    }
   ],
   "source": []
  },
  {
   "cell_type": "code",
   "execution_count": 16,
   "metadata": {},
   "outputs": [
    {
     "data": {
      "text/plain": [
       "['A.发行人', 'B.保荐人']"
      ]
     },
     "execution_count": 16,
     "metadata": {},
     "output_type": "execute_result"
    }
   ],
   "source": [
    "def single_or_multi(a_list)\n",
    "    '''\n",
    "    decide if a question is single or multi type\n",
    "    and write it to the corresponding file \n",
    "    '''\n",
    "    \n",
    "    single_que = re.compile('[\\(【][单项选择题]+[\\)】]')\n",
    "    multi_que  = re.compile('[\\(【][多项选择题]+[\\)】]')\n",
    "    chp_info = re.compile('\\(第.+?章.*?\\)')\n",
    "    questions_index = (0, 5, 10, 15, 20) # constant, thus a tuple\n",
    "    \n",
    "    single = open('single.csv', 'w', encoding='utf-8')\n",
    "    multi  = open('multi.scv', 'a', encoding='utf-8')\n",
    "\n",
    "    # loop over the questions\n",
    "    for i in questions_index:\n",
    "\n",
    "        # if a single question\n",
    "        if single_que.search(a_list[i]).group() in re.findall(single_que, a_list[i]):\n",
    "            # get chp info\n",
    "            chapter  = chp_info.search(a_list[i]).group().strip('()')\n",
    "            # remove chp info and question type\n",
    "            question = re.sub(chp_info, '', re.sub(single_que, '', a_list[i]))\n",
    "            option_a = a_list[i+1]\n",
    "            option_b = a_list[i+2]\n",
    "            option_c = a_list[i+3]\n",
    "            option_d = a_list[i+4]\n",
    "\n",
    "            # answer page waiting to be scrapped\n",
    "            \n",
    "            single.write(question + \\\n",
    "                        ',' + option_a + \\\n",
    "                        ',' + option_b + \\\n",
    "                        ',' + option_c + \\\n",
    "                        ',' + option_d + \\\n",
    "                        ',' + chapter + '\\n')\n",
    "            \n",
    "        elif multi_que.search(a_list[i]).group() in re.findall(multi_que, a_list[i]):\n",
    "            chapter  = chp_info.search(a_list[i]).group().strip('()')\n",
    "            question = re.sub(chp_info, '', re.sub(multi_que, '', a_list[i]))\n",
    "            option_a = a_list[i+1]\n",
    "            option_b = a_list[i+2]\n",
    "            option_c = a_list[i+3]\n",
    "            option_d = a_list[i+4]\n",
    "            \n",
    "            # answer page\n",
    "            \n",
    "            multi.write(question + \\\n",
    "                        ',' + option_a + \\\n",
    "                        ',' + option_b + \\\n",
    "                        ',' + option_c + \\\n",
    "                        ',' + option_d + \\\n",
    "                        ',' + chapter + '\\n')\n",
    "        \n",
    "    \n",
    "    single.close()\n",
    "    multi.close()"
   ]
  },
  {
   "cell_type": "code",
   "execution_count": 2,
   "metadata": {},
   "outputs": [
    {
     "ename": "AttributeError",
     "evalue": "'str' object has no attribute 'get_text'",
     "output_type": "error",
     "traceback": [
      "\u001b[1;31m---------------------------------------------------------------------------\u001b[0m",
      "\u001b[1;31mAttributeError\u001b[0m                            Traceback (most recent call last)",
      "\u001b[1;32m<ipython-input-2-2349b6be5f35>\u001b[0m in \u001b[0;36m<module>\u001b[1;34m\u001b[0m\n\u001b[0;32m     45\u001b[0m \u001b[1;32mif\u001b[0m \u001b[0m__name__\u001b[0m \u001b[1;33m==\u001b[0m \u001b[1;34m'__main__'\u001b[0m\u001b[1;33m:\u001b[0m\u001b[1;33m\u001b[0m\u001b[1;33m\u001b[0m\u001b[0m\n\u001b[0;32m     46\u001b[0m     \u001b[1;32mimport\u001b[0m \u001b[0msys\u001b[0m\u001b[1;33m\u001b[0m\u001b[1;33m\u001b[0m\u001b[0m\n\u001b[1;32m---> 47\u001b[1;33m     \u001b[0mabnormal_to_normal\u001b[0m\u001b[1;33m(\u001b[0m\u001b[0mlist\u001b[0m\u001b[1;33m(\u001b[0m\u001b[0msys\u001b[0m\u001b[1;33m.\u001b[0m\u001b[0margv\u001b[0m\u001b[1;33m[\u001b[0m\u001b[1;36m1\u001b[0m\u001b[1;33m]\u001b[0m\u001b[1;33m)\u001b[0m\u001b[1;33m)\u001b[0m\u001b[1;33m\u001b[0m\u001b[1;33m\u001b[0m\u001b[0m\n\u001b[0m",
      "\u001b[1;32m<ipython-input-2-2349b6be5f35>\u001b[0m in \u001b[0;36mabnormal_to_normal\u001b[1;34m(a_list)\u001b[0m\n\u001b[0;32m     17\u001b[0m     \u001b[1;31m# remove <p></p> and replace \\u3000 with whitespaces\u001b[0m\u001b[1;33m\u001b[0m\u001b[1;33m\u001b[0m\u001b[1;33m\u001b[0m\u001b[0m\n\u001b[0;32m     18\u001b[0m     \u001b[1;32mfor\u001b[0m \u001b[0mi\u001b[0m \u001b[1;32min\u001b[0m \u001b[0mrange\u001b[0m\u001b[1;33m(\u001b[0m\u001b[0mlen\u001b[0m\u001b[1;33m(\u001b[0m\u001b[0ma_list\u001b[0m\u001b[1;33m)\u001b[0m\u001b[1;33m)\u001b[0m\u001b[1;33m:\u001b[0m\u001b[1;33m\u001b[0m\u001b[1;33m\u001b[0m\u001b[0m\n\u001b[1;32m---> 19\u001b[1;33m         \u001b[0ma_list\u001b[0m\u001b[1;33m[\u001b[0m\u001b[0mi\u001b[0m\u001b[1;33m]\u001b[0m \u001b[1;33m=\u001b[0m \u001b[0ma_list\u001b[0m\u001b[1;33m[\u001b[0m\u001b[0mi\u001b[0m\u001b[1;33m]\u001b[0m\u001b[1;33m.\u001b[0m\u001b[0mget_text\u001b[0m\u001b[1;33m(\u001b[0m\u001b[1;33m)\u001b[0m\u001b[1;33m.\u001b[0m\u001b[0mreplace\u001b[0m\u001b[1;33m(\u001b[0m\u001b[1;34m'\\u3000'\u001b[0m\u001b[1;33m,\u001b[0m \u001b[1;34m' '\u001b[0m\u001b[1;33m)\u001b[0m\u001b[1;33m\u001b[0m\u001b[1;33m\u001b[0m\u001b[0m\n\u001b[0m\u001b[0;32m     20\u001b[0m \u001b[1;33m\u001b[0m\u001b[0m\n\u001b[0;32m     21\u001b[0m         \u001b[1;31m# locate all such strange options as divided into multiple lines\u001b[0m\u001b[1;33m\u001b[0m\u001b[1;33m\u001b[0m\u001b[1;33m\u001b[0m\u001b[0m\n",
      "\u001b[1;31mAttributeError\u001b[0m: 'str' object has no attribute 'get_text'"
     ]
    }
   ],
   "source": [
    "#! Abnormal options handling module\n",
    "\n",
    "\n",
    "\n",
    "def abnormal_to_normal(a_list):\n",
    "    '''\n",
    "    dealing with abnormal options\n",
    "    combined type 'A. xxx B. yyy' (occasionally) --> 'A. xxx', 'B. yyy'\n",
    "    divided type 'A xxxx\\nyyyy\\nzzz' (sometimes) --> 'A. xxx yyy zzz'\n",
    "    '''\n",
    "    \n",
    "    prefix = ('A', 'B', 'C', 'D', '1', '2', '3', '4', '5')\n",
    "    unwanted = []\n",
    "    temps = []\n",
    "    points = []\n",
    "\n",
    "    # remove <p></p> and replace \\u3000 with whitespaces\n",
    "    for i in range(len(a_list)):\n",
    "#         a_list[i] = a_list[i].get_text().replace('\\u3000', ' ')\n",
    "#         pass\n",
    "\n",
    "        # handle multi-line options\n",
    "        # A. XXX \n",
    "        # YYY\n",
    "        # ZZZ\n",
    "        if not a_list[i].startswith(prefix):\n",
    "            a_list[i] = a_list[i-1] + '\\n' + a_list[i]\n",
    "            unwanted.append(a_list[i-1])\n",
    "        \n",
    "        # handle combined-into-one-line options\n",
    "        # A. XXX B.YYY \n",
    "        elif ('A' in a_list[i] and 'B' in a_list[i]) or ('C' in a_list[i] and 'D' in a_list[i]):   \n",
    "            broken = a_list[i].split()  # divide the option\n",
    "            temps += broken             # store in a temp list\n",
    "            points.append(i)            # record thier positions\n",
    "            unwanted.append(a_list[i])  # record them too\n",
    "\n",
    "    # 'A. xxx B. yyy' --> 'A. xx', 'B. yy' \n",
    "    a_list.insert(points[0]+1, temps[0])\n",
    "    a_list.insert(points[0]+2, temps[1])\n",
    "    a_list.insert(points[1]+3, temps[2])\n",
    "    a_list.insert(points[1]+4, temps[3])\n",
    "\n",
    "    # remove the strange options\n",
    "    for i in unwanted:\n",
    "        a_list.remove(i)\n",
    "\n",
    "    return a_list\n",
    "\n",
    "if __name__ == '__main__':\n",
    "    import sys\n",
    "    abnormal_to_normal(list(sys.argv[1]))"
   ]
  },
  {
   "cell_type": "code",
   "execution_count": 2,
   "metadata": {},
   "outputs": [
    {
     "data": {
      "text/plain": [
       "2"
      ]
     },
     "execution_count": 2,
     "metadata": {},
     "output_type": "execute_result"
    }
   ],
   "source": [
    "len('题目')"
   ]
  },
  {
   "cell_type": "code",
   "execution_count": null,
   "metadata": {},
   "outputs": [],
   "source": [
    "# input raw --> [A-D]+,XXX\n",
    "    for i in range(len(a_list)):\n",
    "        a_list[i] = correct.search(a_list[i]).group(1) + ',' \\\n",
    "                    + analysis.search(a_list[i]).group(1)\n",
    "        q_list.insert((i+1)*5+i, a_list[i])\n",
    "    \n",
    "    # input raw --> [单多选]+,题目,索引\n",
    "    for i in (0,6,12,18,24):\n",
    "        q_list[i] = q_type.search(q_list[i]).group(1) + ',' \\\n",
    "                + q_type.search(q_list[i]).group(2) + ',' \\\n",
    "                + q_type.search(q_list[i]).group(3)\n",
    "        file.write(q_list[i] + ',' + \\\n",
    "                  q_list[i+1] + ',' + \\\n",
    "                  q_list[i+2] + ',' + \\\n",
    "                  q_list[i+3] + ',' + \\\n",
    "                  q_list[i+4] + ',' + \\\n",
    "                   \n",
    "                  q_list[i+5] + '\\n')"
   ]
  }
 ],
 "metadata": {
  "kernelspec": {
   "display_name": "Python 3",
   "language": "python",
   "name": "python3"
  },
  "language_info": {
   "codemirror_mode": {
    "name": "ipython",
    "version": 3
   },
   "file_extension": ".py",
   "mimetype": "text/x-python",
   "name": "python",
   "nbconvert_exporter": "python",
   "pygments_lexer": "ipython3",
   "version": "3.6.5"
  }
 },
 "nbformat": 4,
 "nbformat_minor": 2
}
