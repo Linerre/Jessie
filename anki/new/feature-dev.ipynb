{
 "cells": [
  {
   "cell_type": "code",
   "execution_count": 1,
   "metadata": {},
   "outputs": [
    {
     "ename": "NameError",
     "evalue": "name 'answer_url' is not defined",
     "output_type": "error",
     "traceback": [
      "\u001b[1;31m---------------------------------------------------------------------------\u001b[0m",
      "\u001b[1;31mNameError\u001b[0m                                 Traceback (most recent call last)",
      "\u001b[1;32m<ipython-input-1-9f4e455526cd>\u001b[0m in \u001b[0;36m<module>\u001b[1;34m\u001b[0m\n\u001b[0;32m     22\u001b[0m \u001b[1;33m\u001b[0m\u001b[0m\n\u001b[0;32m     23\u001b[0m \u001b[1;31m# parse answer page\u001b[0m\u001b[1;33m\u001b[0m\u001b[1;33m\u001b[0m\u001b[1;33m\u001b[0m\u001b[0m\n\u001b[1;32m---> 24\u001b[1;33m \u001b[1;32mwith\u001b[0m \u001b[0murlopen\u001b[0m\u001b[1;33m(\u001b[0m\u001b[0manswer_url\u001b[0m\u001b[1;33m)\u001b[0m \u001b[1;32mas\u001b[0m \u001b[0manswer_page\u001b[0m\u001b[1;33m:\u001b[0m\u001b[1;33m\u001b[0m\u001b[1;33m\u001b[0m\u001b[0m\n\u001b[0m\u001b[0;32m     25\u001b[0m     \u001b[0manwser_html\u001b[0m \u001b[1;33m=\u001b[0m \u001b[0msoup\u001b[0m\u001b[1;33m(\u001b[0m\u001b[0manswer_page\u001b[0m\u001b[1;33m,\u001b[0m \u001b[1;34m'html.parser'\u001b[0m\u001b[1;33m)\u001b[0m\u001b[1;33m\u001b[0m\u001b[1;33m\u001b[0m\u001b[0m\n\u001b[0;32m     26\u001b[0m \u001b[1;33m\u001b[0m\u001b[0m\n",
      "\u001b[1;31mNameError\u001b[0m: name 'answer_url' is not defined"
     ]
    }
   ],
   "source": [
    "from urllib.request import urlopen\n",
    "from bs4 import BeautifulSoup as soup\n",
    "import re\n",
    "import pprint\n",
    "\n",
    "# url = 'http://www.zgcjpx.com/cpa/tiku/lianxi/gszl/120156.html'\n",
    "# url = 'http://www.zgcjpx.com/cpa/tiku/lianxi/jjf/130097.html'\n",
    "url = 'http://www.zgcjpx.com/cpa/tiku/lianxi/sj/120447.html'\n",
    "with urlopen(url) as response:\n",
    "    html = response.read()\n",
    "page = soup(html, 'html.parser')\n",
    "\n",
    "answer_button = page.find_all('a', attrs={'class': 'anniu'})\n",
    "try:\n",
    "    if len(answer_button) != 1 and answer_button[0].get_text() != '查看答案':\n",
    "        raise ValueError\n",
    "    else:\n",
    "        anwser_url = (page.find_all('a', attrs={'class': 'anniu'})[0]['href'])\n",
    "except ValueError:\n",
    "    print('Not the correct button: ', answer_button)\n",
    "    \n",
    "\n",
    "# parse answer page\n",
    "with urlopen(answer_url) as answer_page:\n",
    "    anwser_html = soup(answer_page, 'html.parser')\n",
    "\n",
    "\n",
    "def anwsers_para(tag):\n",
    "    return tag.name == 'p' and len(tag.contents) == 1 and isinstance(tag.contents[0], str)\n",
    "\n",
    "anwsers = anwser_html.find_all(anwsers_para)\n",
    "del anwsers[0]\n",
    "del anwsers[-1]\n",
    "\n",
    "for i in range(len(anwsers)):\n",
    "    anwsers[i] = anwsers[i].get_text()\n",
    "\n",
    "    \n",
    "correct_option = re.compile('【答案】([A-D]+)')  \n",
    "analysis = re.compile('解析：(.*)。') \n",
    "\n",
    "file = open('single.csv', 'r', encoding='utf-8')\n",
    "content = file.readlines()\n",
    "\n",
    "try:\n",
    "    for i in range(len(anwsers)):\n",
    "        right_op =  correct_option.search(anwsers[i]).group(1)\n",
    "        explain = analysis.search(anwsers[i]).group(1)\n",
    "        content[i] = content[i].replace('\\n', '') + ',' + right_op + ',' + explain + '\\n'\n",
    "    \n",
    "    file.close()\n",
    "except:\n",
    "    print('sth is wrong')\n",
    "\n",
    "\n",
    "with open(\"single.csv\", 'w', encoding='utf-8') as f:\n",
    "    for i in content:\n",
    "        f.write(i)"
   ]
  },
  {
   "cell_type": "code",
   "execution_count": 23,
   "metadata": {},
   "outputs": [
    {
     "data": {
      "text/plain": [
       "'http://www.zgcjpx.com/cpa/tiku/lianxi/sj/120447_2.html'"
      ]
     },
     "execution_count": 23,
     "metadata": {},
     "output_type": "execute_result"
    }
   ],
   "source": [
    "# ---------------- mixed question types -----------------\n",
    "\n",
    "def unique_list(a_list):\n",
    "    for item in a_list:\n",
    "        while a_list.count(item) > 1:\n",
    "            a_list.remove(item)\n",
    "    return a_list\n",
    "\n",
    "\n",
    "# --------------- get the answer page link --------------\n",
    "def answer_page():\n",
    "    '''\n",
    "    output the answer page link \n",
    "    '''\n",
    "    answer_button = page.find_all('a', attrs={'class': 'anniu'})\n",
    "    try:\n",
    "        if len(answer_button) != 1 and answer_button[0].get_text() != '查看答案':\n",
    "            raise ValueError\n",
    "        else:\n",
    "            return page.find_all('a', attrs={'class': 'anniu'})[0]['href']\n",
    "    except ValueError:\n",
    "        print('Not the correct button: ', answer_button)\n",
    "              \n",
    "answer_page()"
   ]
  },
  {
   "cell_type": "code",
   "execution_count": null,
   "metadata": {},
   "outputs": [],
   "source": [
    "# filter out unwanted annoying <p>, and the rest would be the darling we love\n",
    "def drills_para(tag):\n",
    "    return tag.name == 'p' and len(tag.contents) <= 1 and isinstance(tag.contents[0], str)\n",
    "\n",
    "drills = page.find_all(drills_para)\n",
    "\n",
    "# delete yet another two\n",
    "del drills[0]   # always be <p>CPA</p>\n",
    "del drills[-1]  # always be <p>400-605-3513</p>\n",
    "\n",
    "for i in range(len(drills)):\n",
    "    drills[i] = drills[i] = drills[i].get_text().replace('\\u3000', ' ')\n"
   ]
  },
  {
   "cell_type": "code",
   "execution_count": 2,
   "metadata": {},
   "outputs": [
    {
     "name": "stdout",
     "output_type": "stream",
     "text": [
      "Opps\n"
     ]
    }
   ],
   "source": [
    "try:\n",
    "    i.append('1')\n",
    "except:\n",
    "    print('Opps')"
   ]
  },
  {
   "cell_type": "code",
   "execution_count": 18,
   "metadata": {},
   "outputs": [],
   "source": [
    "# with open('test.txt', 'w') as t:\n",
    "#     t.write('this is a line')\n",
    "\n",
    "with open('test.txt', 'r+') as t:\n",
    "    content = t.readlines()\n",
    "    content[0] = content[0] + ' and it has only two clauses.'\n",
    "    t.write(content[0])"
   ]
  },
  {
   "cell_type": "code",
   "execution_count": 1,
   "metadata": {},
   "outputs": [
    {
     "data": {
      "text/plain": [
       "'ABC'"
      ]
     },
     "execution_count": 1,
     "metadata": {},
     "output_type": "execute_result"
    }
   ],
   "source": [
    "import re\n",
    "an = r'[1-5]\\.[【参考答案】:：]+(?P<opt>[A-D]+)'\n",
    "s = '4.参考答案:ABC题目详解:选项D：行纪是以行纪人自己的名义实施民事法律行为;代理是以被代理人的名义实施民事法律行为。'\n",
    "match = re.search(an, s)\n",
    "match.group('opt')"
   ]
  },
  {
   "cell_type": "code",
   "execution_count": 8,
   "metadata": {},
   "outputs": [
    {
     "name": "stdout",
     "output_type": "stream",
     "text": [
      "<class 'list'>\n",
      "<class 'list'>\n"
     ]
    }
   ],
   "source": [
    "d = {'one':[1,2,3], 'two': [4,5,6]}\n",
    "for i in d.values():\n",
    "    print(type(i))"
   ]
  },
  {
   "cell_type": "code",
   "execution_count": 10,
   "metadata": {},
   "outputs": [],
   "source": [
    "for i in range(2,2):\n",
    "    print(i)"
   ]
  },
  {
   "cell_type": "code",
   "execution_count": null,
   "metadata": {},
   "outputs": [],
   "source": []
  }
 ],
 "metadata": {
  "kernelspec": {
   "display_name": "Python 3",
   "language": "python",
   "name": "python3"
  },
  "language_info": {
   "codemirror_mode": {
    "name": "ipython",
    "version": 3
   },
   "file_extension": ".py",
   "mimetype": "text/x-python",
   "name": "python",
   "nbconvert_exporter": "python",
   "pygments_lexer": "ipython3",
   "version": "3.7.3"
  }
 },
 "nbformat": 4,
 "nbformat_minor": 2
}
