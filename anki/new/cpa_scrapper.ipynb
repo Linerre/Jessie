{
 "cells": [
  {
   "cell_type": "code",
   "execution_count": 57,
   "metadata": {
    "collapsed": true
   },
   "outputs": [
    {
     "name": "stdout",
     "output_type": "stream",
     "text": [
      "['A. 借：长期股权投资——投资成本          13200', 'A. 借：长期股权投资——投资成本          13200\\n贷：股本                    2000', 'B. 借：资本公积——股本溢价             30', 'C. 借：长期股权投资——投资成本          13200', 'C. 借：长期股权投资——投资成本          13200\\n贷：股本                    2000', 'D. 借：营业外支出                  30'] 31\n",
      "['1.(多选题)确定非同一控制下企业合并的购买日，以下必须同时满足的条件有( )。(第七章.长期股权投资与合营安排)',\n",
      "'A. 合并合同或协议已获股东大会等内部权力机构通过',\n",
      "'B. 已获得国家有关主管部门审批，已办理了必要的财产权交接手续',\n",
      "'C. 购买方实际上已经控制了被购买方的财务和经营政策，并享有相应的收益和风险',\n",
      "'D. 购买方已支付了购买价款的大部分(一般应超过50%)，并且有能力支付剩余款项',\n",
      "'2.(多选题)下列关于跨年度增资由以公允价值计量且其变动计入其他综合收益的金融资产转为权益法核算的长期股权投资的处理，说法正确的有( '\n",
      "')。(第七章.长期股权投资与合营安排)',\n",
      "'A. 对于原股权，应保持其账面价值不变',\n",
      "'B. 初始投资成本为原股权的公允价值与新增投资成本之和',\n",
      "'C. 原股权公允价值与账面价值之间的差额应计入留存收益',\n",
      "'D. 原股权累计确认的其他综合收益应在增资日转入留存收益',\n",
      "'3.(多选题)投资方因处置部分权益性投资等原因丧失了对被投资单位的控制权，下列有关企业进行的会计处理中，正确的有( )。(第七章.长期股权投资与合营安排)',\n",
      "'A. 处置后的剩余股权能够对被投资单位实施共同控制或施加重大影响的，应当改按权益法核算，并对该剩余股权视同自取得时即采用权益法核算进行调整',\n",
      "'B. 处置后的剩余股权能够对被投资单位实施共同控制或施加重大影响的，应当改按权益法核算，并按照剩余股权的账面价值作为长期股权投资权益法的初始入账价值',\n",
      "'C. '\n",
      "'处置后的剩余股权不能对被投资单位实施共同控制或施加重大影响的，应当改按《企业会计准则第22号——金融工具确认和计量》的有关规定进行会计处理，并按其在丧失控制之日的公允价值作为金融资产的成本，其在丧失控制权之日的公允价值与账面价值间的差额计入投资收益',\n",
      "'D. '\n",
      "'处置后的剩余股权不能对被投资单位实施共同控制或施加重大影响的，应当改按《企业会计准则第22号——金融工具确认和计量》的有关规定进行会计处理，并按其在丧失控制权之日的账面价值作为金融资产的成本',\n",
      "'4.(多选题)权益法下，被投资单位发生的下列交易或事项中，可能会影响“长期股权投资——损益调整”科目余额的有( )。(第七章.长期股权投资与合营安排)',\n",
      "'A. 被投资单位实现净利润',\n",
      "'B. 被投资单位宣告分派现金股利',\n",
      "'C. 被投资单位以公允价值计量且其变动计入其他综合收益的金额资产发生公允价值变动',\n",
      "'D. 发放股票股利',\n",
      "'5.(多选题)2017年3月5日，新华公司通过增发2000万股本公司普通股(每股面值1元)取得大海公司20%的股权，该2000万股股票的公允价值为13200万元。为增发该股票，新华公司向证券承销机构等支付了30万元的佣金和手续费。假定新华公司取得该部分股权后，能够对大海公司的财务和生产经营决策施加重大影响。当日，大海公司可辨认净资产公允价值为65000万元，相关手续均于当日办理完毕。不考虑其他因素的影响，则投资日新华公司的下列会计分录中，正确的有(  '\n",
      "')。(第七章.长期股权投资与合营安排)',\n",
      "'A. 借：长期股权投资——投资成本          13200\\n'\n",
      "'贷：股本                    2000\\n'\n",
      "'资本公积——股本溢价            11200',\n",
      "'B. 借：资本公积——股本溢价             30\\n贷：银行存款                   30',\n",
      "'C. 借：长期股权投资——投资成本          13200\\n'\n",
      "'贷：股本                    2000\\n'\n",
      "'营业外收入                 11200',\n",
      "'D. 借：营业外支出                  30\\n贷：银行存款                   30']\n"
     ]
    }
   ],
   "source": [
    "from urllib.request import urlopen\n",
    "from bs4 import BeautifulSoup as soup\n",
    "from bs4 import SoupStrainer as strainer\n",
    "import pprint\n",
    "\n",
    "# open and retrieve the whole page\n",
    "# url = 'http://www.zgcjpx.com/cpa/tiku/lianxi/kj/129121.html'\n",
    "url = 'http://www.zgcjpx.com/cpa/tiku/lianxi/kj/129401.html'\n",
    "\n",
    "with urlopen(url) as response:\n",
    "    html = response.read()\n",
    "\n",
    "# To parse only the part we need, that is, all p tags\n",
    "\n",
    "# not a good idea since JS could modify the behavior of a <p> tage\n",
    "# only_p_tags = strainer('p')\n",
    "\n",
    "# filter out that annoying <p>, and the rest would be the darling we love\n",
    "page = soup(html, 'html.parser')\n",
    "\n",
    "\n",
    "# p_tags = page.find_all('p')\n",
    "\n",
    "def drills_para(tag):\n",
    "    return tag.name == 'p' and len(tag.contents) <= 1 and isinstance(tag.contents[0], str)\n",
    "\n",
    "raw_drills = page.find_all(drills_para)\n",
    "\n",
    "del raw_drills[0]\n",
    "del raw_drills[-1]\n",
    "\n",
    "\n",
    "drills = raw_drills.copy()\n",
    "\n",
    "# to catch strange options which do not start with any of the below prefix\n",
    "prefix = ('A', 'B', 'C', 'D', '1', '2', '3', '4', '5')\n",
    "unwanted = []\n",
    "\n",
    "# remove <p></p> and replace \\u3000 with whitespaces\n",
    "# also locate all the strange options\n",
    "for i in range(len(raw_drills)):\n",
    "    raw_drills[i] = raw_drills[i].get_text().replace('\\u3000', ' ')\n",
    "    if not raw_drills[i].startswith(prefix):\n",
    "        raw_drills[i] = raw_drills[i-1] + '\\n' + raw_drills[i]\n",
    "        unwanted.append(raw_drills[i-1])\n",
    "\n",
    "\n",
    "# remove the strange options (already turned into empyt string by magic!)\n",
    "for i in unwanted:\n",
    "    raw_drills.remove(i)\n",
    "        \n",
    "pp = pprint.PrettyPrinter(indent=0)\n",
    "pp.pprint(raw_drills)\n",
    "# for element in raw_drills:\n",
    "#     print(element)"
   ]
  },
  {
   "cell_type": "code",
   "execution_count": 22,
   "metadata": {
    "scrolled": false
   },
   "outputs": [
    {
     "ename": "IndexError",
     "evalue": "list index out of range",
     "output_type": "error",
     "traceback": [
      "\u001b[0;31m---------------------------------------------------------------------------\u001b[0m",
      "\u001b[0;31mIndexError\u001b[0m                                Traceback (most recent call last)",
      "\u001b[0;32m<ipython-input-22-b8c4bd2b6129>\u001b[0m in \u001b[0;36m<module>\u001b[0;34m()\u001b[0m\n\u001b[1;32m     60\u001b[0m \u001b[0;34m\u001b[0m\u001b[0m\n\u001b[1;32m     61\u001b[0m \u001b[0;34m\u001b[0m\u001b[0m\n\u001b[0;32m---> 62\u001b[0;31m \u001b[0mdrills\u001b[0m\u001b[0;34m.\u001b[0m\u001b[0minsert\u001b[0m\u001b[0;34m(\u001b[0m\u001b[0mpoints\u001b[0m\u001b[0;34m[\u001b[0m\u001b[0;36m0\u001b[0m\u001b[0;34m]\u001b[0m\u001b[0;34m+\u001b[0m\u001b[0;36m1\u001b[0m\u001b[0;34m,\u001b[0m \u001b[0mtemps\u001b[0m\u001b[0;34m[\u001b[0m\u001b[0;36m0\u001b[0m\u001b[0;34m]\u001b[0m\u001b[0;34m)\u001b[0m\u001b[0;34m\u001b[0m\u001b[0m\n\u001b[0m\u001b[1;32m     63\u001b[0m \u001b[0mdrills\u001b[0m\u001b[0;34m.\u001b[0m\u001b[0minsert\u001b[0m\u001b[0;34m(\u001b[0m\u001b[0mpoints\u001b[0m\u001b[0;34m[\u001b[0m\u001b[0;36m0\u001b[0m\u001b[0;34m]\u001b[0m\u001b[0;34m+\u001b[0m\u001b[0;36m2\u001b[0m\u001b[0;34m,\u001b[0m \u001b[0mtemps\u001b[0m\u001b[0;34m[\u001b[0m\u001b[0;36m1\u001b[0m\u001b[0;34m]\u001b[0m\u001b[0;34m)\u001b[0m\u001b[0;34m\u001b[0m\u001b[0m\n\u001b[1;32m     64\u001b[0m \u001b[0mdrills\u001b[0m\u001b[0;34m.\u001b[0m\u001b[0minsert\u001b[0m\u001b[0;34m(\u001b[0m\u001b[0mpoints\u001b[0m\u001b[0;34m[\u001b[0m\u001b[0;36m1\u001b[0m\u001b[0;34m]\u001b[0m\u001b[0;34m+\u001b[0m\u001b[0;36m3\u001b[0m\u001b[0;34m,\u001b[0m \u001b[0mtemps\u001b[0m\u001b[0;34m[\u001b[0m\u001b[0;36m2\u001b[0m\u001b[0;34m]\u001b[0m\u001b[0;34m)\u001b[0m\u001b[0;34m\u001b[0m\u001b[0m\n",
      "\u001b[0;31mIndexError\u001b[0m: list index out of range"
     ]
    }
   ],
   "source": [
    "from urllib.request import urlopen\n",
    "from bs4 import BeautifulSoup as soup\n",
    "import re\n",
    "import pprint\n",
    "\n",
    "# open and retrieve the whole page\n",
    "# url = 'http://www.zgcjpx.com/cpa/tiku/lianxi/kj/129121.html'\n",
    "# url = 'http://www.zgcjpx.com/cpa/tiku/lianxi/kj/129401.html'\n",
    "url = 'http://www.zgcjpx.com/cpa/tiku/lianxi/gszl/129733.html'\n",
    "# url = 'http://www.zgcjpx.com/cpa/tiku/lianxi/jjf/129721.html'\n",
    "with urlopen(url) as response:\n",
    "    html = response.read()\n",
    "page = soup(html, 'html.parser')\n",
    "\n",
    "\n",
    "# To parse only the part needed, that is, all p tags, is NOT a good idea \n",
    "# since JavaScript could modify the behavior of any <p> tags\n",
    "\n",
    "# filter out unwanted annoying <p>\n",
    "# and the rest would be the darling we love\n",
    "def drills_para(tag):\n",
    "    '''\n",
    "    filter out filter out unwanted annoying <p>\n",
    "    '''\n",
    "    return tag.name == 'p' and len(tag.contents) <= 1 and isinstance(tag.contents[0], str)\n",
    "\n",
    "drills = page.find_all(drills_para)\n",
    "\n",
    "# delete yet another two\n",
    "del drills[0]   # always be <p>CPA</p>\n",
    "del drills[-1]  # always be <p>400-605-3513</p>\n",
    "\n",
    "\n",
    "if len(drills) == 25:\n",
    "    for i in range(len(drills)):\n",
    "        drills[i] = drills[i].get_text().replace('\\u3000', ' ')\n",
    "else:\n",
    "#     function() to deal with combined or divided options\n",
    "\n",
    "\n",
    "\n",
    "# ------------- cleaning ------------ #\n",
    "\n",
    "# to catch strange options which do not start with any of the below prefix\n",
    "def abnormal_to_normal(a_list):\n",
    "    prefix = ('A', 'B', 'C', 'D', '1', '2', '3', '4', '5')\n",
    "    unwanted = []\n",
    "    temps = []\n",
    "    points = []\n",
    "\n",
    "# remove <p></p> and replace \\u3000 with whitespaces\n",
    "    for i in range(len(drills)):\n",
    "        drills[i] = drills[i].get_text().replace('\\u3000', ' ')\n",
    "    \n",
    "    # also locate all such strange options as divided into multiple lines\n",
    "        if not drills[i].startswith(prefix):\n",
    "            drills[i] = drills[i-1] + '\\n' + drills[i]\n",
    "            unwanted.append(drills[i-1])\n",
    "        elif ('A' in drills[i] and 'B' in drills[i]) or ('C' in drills[i] and 'D' in drills[i]):  \n",
    "        # record (i-1) instead of i which will change later when inserting new items\n",
    "        # (i - 1), the question, will remain the same \n",
    "            broken = drills[i].split()\n",
    "            temps += broken\n",
    "            points.append(i)\n",
    "            unwanted.append(drills[i])\n",
    "        \n",
    "    drills.insert(points[0]+1, temps[0])\n",
    "    drills.insert(points[0]+2, temps[1])\n",
    "    drills.insert(points[1]+3, temps[2])\n",
    "    drills.insert(points[1]+4, temps[3])\n",
    "\n",
    "    # remove the strange options\n",
    "    for i in unwanted:\n",
    "        drills.remove(i)\n",
    "\n",
    "    return a_list\n",
    "\n",
    "# ------------- cleaning ------------ #\n",
    "\n",
    "\n",
    "\n",
    "# ------------- output  ------------- #\n",
    "\n",
    "# patterns for use in regular expressions\n",
    "# extract (单选题) or (多选题) and chapter info like (第六章.风险与风险管理)\n",
    "# this is necessary since later they will get in the way of processing questiona-and-options\n",
    "# que_type_pattern = re.compile('[\\(【][单多]选题?[\\)】]')\n",
    "que_type_pattern = re.compile('[\\(【][单多项选择题]+[\\)】]')\n",
    "chp_info_pattern = re.compile('\\(第.+?章.*?\\)')\n",
    "questions_index = (0, 5, 10, 15, 20)\n",
    "que_type = []\n",
    "chp_info = []\n",
    "for i in questions_index:\n",
    "    # record question type\n",
    "    que_type.append(que_type_pattern.search(drills[i]).group().strip('()'))\n",
    "    \n",
    "    # record chp info\n",
    "    chp_info.append(chp_info_pattern.search(drills[i]).group().strip('()'))\n",
    "    \n",
    "#     drills[i] = re.sub(que_type_pattern, '', drills[i])\n",
    "#     drills[i] = re.sub(chp_info_pattern, '', drills[i])\n",
    "\n",
    "\n",
    "# need to make the list into a dict with a data structure: q-ops     \n",
    "    \n",
    "\n",
    "        \n",
    "# pp = pprint.PrettyPrinter(indent=0)\n",
    "# pp.pprint(drills)\n",
    "print(que_type)\n",
    "print(chp_info)"
   ]
  },
  {
   "cell_type": "code",
   "execution_count": null,
   "metadata": {},
   "outputs": [],
   "source": [
    "# special cases:\n",
    "\n",
    "# --------------------- frequent --------------------\n",
    "\n",
    "# two options combined into one para\n",
    "url1 = 'http://www.zgcjpx.com/cpa/tiku/lianxi/jjf/129721.html'\n",
    "\n",
    "# one option broke into several paras\n",
    "url2 = 'http://www.zgcjpx.com/cpa/tiku/lianxi/kj/129401.html'\n",
    "\n",
    "# 【单选题】\n",
    "url3 = 'http://www.zgcjpx.com/cpa/tiku/lianxi/jjf/130097.html'\n",
    "\n",
    "# 【多选题】 and 【单选题】and (第八章 资源税法和环境保护税法)\n",
    "url4 = 'http://www.zgcjpx.com/cpa/tiku/lianxi/sf/130094.html'\n",
    "\n",
    "# (多选题) or (单选题) and (第六章.风险与风险管理)\n",
    "url5 = 'http://www.zgcjpx.com/cpa/tiku/lianxi/gszl/129417.html'\n",
    "# http://www.zgcjpx.com/cpa/tiku/lianxi/gszl/129733.html\n",
    "\n",
    "# (单选)\n",
    "url6 = 'http://www.zgcjpx.com/cpa/tiku/lianxi/sj/130091.html'\n",
    "\n",
    "\n",
    "# -------------------- infrequent ------------------\n",
    "# 单项选择题\n",
    "url7 = 'http://www.zgcjpx.com/cpa/tiku/lianxi/sj/120447.html'\n",
    "\n",
    "# 单选题\n",
    "url8 = 'http://www.zgcjpx.com/cpa/tiku/lianxi/gszl/120156.html'\n",
    "\n",
    "# 无题型显示\n",
    "url9 = 'http://www.zgcjpx.com/cpa/tiku/lianxi/gszl/130658.html'\n",
    "\n"
   ]
  },
  {
   "cell_type": "code",
   "execution_count": 6,
   "metadata": {},
   "outputs": [
    {
     "data": {
      "text/plain": [
       "4"
      ]
     },
     "execution_count": 6,
     "metadata": {},
     "output_type": "execute_result"
    }
   ],
   "source": [
    "4 % 5"
   ]
  },
  {
   "cell_type": "code",
   "execution_count": 10,
   "metadata": {},
   "outputs": [
    {
     "data": {
      "text/plain": [
       "['(单选题)']"
      ]
     },
     "execution_count": 10,
     "metadata": {},
     "output_type": "execute_result"
    }
   ],
   "source": [
    "string = 'We We cannot access or change an element \\\n",
    "of a set using indexing or slicing. Set or Set data \\\n",
    "type does not support it'\n",
    "\n",
    "words = string.split()\n",
    "\n",
    "def unique_list(a_list):\n",
    "    for item in a_list:\n",
    "        while a_list.count(item) > 1:\n",
    "            a_list.remove(item)\n",
    "    return a_list\n",
    "\n",
    "unique_list(['(单选题)', '(单选题)'])"
   ]
  },
  {
   "cell_type": "code",
   "execution_count": 16,
   "metadata": {},
   "outputs": [
    {
     "data": {
      "text/plain": [
       "['A.发行人', 'B.保荐人']"
      ]
     },
     "execution_count": 16,
     "metadata": {},
     "output_type": "execute_result"
    }
   ],
   "source": [
    "'A.发行人 B.保荐人'.split()"
   ]
  },
  {
   "cell_type": "code",
   "execution_count": 15,
   "metadata": {},
   "outputs": [
    {
     "data": {
      "text/plain": [
       "['If',\n",
       " 'YYY',\n",
       " 'XXX',\n",
       " 'no',\n",
       " 'positional',\n",
       " 'argument',\n",
       " 'is',\n",
       " 'given,',\n",
       " 'an',\n",
       " 'empty',\n",
       " 'dictionary',\n",
       " 'is',\n",
       " 'created.',\n",
       " 'If',\n",
       " 'a',\n",
       " 'positional',\n",
       " 'argument',\n",
       " 'is',\n",
       " 'given',\n",
       " 'and',\n",
       " 'it',\n",
       " 'is',\n",
       " 'a',\n",
       " 'mapping',\n",
       " 'object']"
      ]
     },
     "execution_count": 15,
     "metadata": {},
     "output_type": "execute_result"
    }
   ],
   "source": [
    "def abnormal_to_normal(a_list):\n",
    "    '''\n",
    "    dealing with abnormal options\n",
    "    combined type 'A. xxx B. yyy' (occasionally) --> 'A. xxx', 'B. yyy'\n",
    "    divided type 'A xxxx\\nyyyy\\nzzz' (sometimes) --> 'A. xxx yyy zzz'\n",
    "    '''\n",
    "    \n",
    "    prefix = ('A', 'B', 'C', 'D', '1', '2', '3', '4', '5')\n",
    "    unwanted = []\n",
    "    temps = []\n",
    "    points = []\n",
    "\n",
    "    # remove <p></p> and replace \\u3000 with whitespaces\n",
    "    for i in range(len(drills)):\n",
    "        a_list[i] = a_list[i].get_text().replace('\\u3000', ' ')\n",
    "    \n",
    "        # locate all such strange options as divided into multiple lines\n",
    "        if not a_list[i].startswith(prefix):\n",
    "            a_list[i] = a_list[i-1] + '\\n' + a_list[i]\n",
    "            unwanted.append(a_list[i-1])\n",
    "        \n",
    "        # or handle such options as combined into one line  \n",
    "        elif ('A' in a_list[i] and 'B' in a_list[i]) or ('C' in a_list[i] and 'D' in a_list[i]):   \n",
    "            broken = a_list[i].split()  # divide the option\n",
    "            temps += broken             # store in a temp list\n",
    "            points.append(i)            # record thier positions\n",
    "            unwanted.append(a_list[i])  # record them too\n",
    "\n",
    "    # 'A. xxx B. yyy' --> 'A. xx', 'B. yy' \n",
    "    a_list.insert(points[0]+1, temps[0])\n",
    "    a_list.insert(points[0]+2, temps[1])\n",
    "    a_list.insert(points[1]+3, temps[2])\n",
    "    a_list.insert(points[1]+4, temps[3])\n",
    "\n",
    "    # remove the strange options\n",
    "    for i in unwanted:\n",
    "        a_list.remove(i)\n",
    "\n",
    "    return a_list"
   ]
  },
  {
   "cell_type": "code",
   "execution_count": 2,
   "metadata": {},
   "outputs": [
    {
     "data": {
      "text/plain": [
       "3"
      ]
     },
     "execution_count": 2,
     "metadata": {},
     "output_type": "execute_result"
    }
   ],
   "source": [
    "round(16/5)"
   ]
  },
  {
   "cell_type": "code",
   "execution_count": null,
   "metadata": {},
   "outputs": [],
   "source": []
  }
 ],
 "metadata": {
  "kernelspec": {
   "display_name": "Python 3",
   "language": "python",
   "name": "python3"
  },
  "language_info": {
   "codemirror_mode": {
    "name": "ipython",
    "version": 3
   },
   "file_extension": ".py",
   "mimetype": "text/x-python",
   "name": "python",
   "nbconvert_exporter": "python",
   "pygments_lexer": "ipython3",
   "version": "3.6.5"
  }
 },
 "nbformat": 4,
 "nbformat_minor": 2
}
